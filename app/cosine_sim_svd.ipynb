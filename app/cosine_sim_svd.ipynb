{
 "cells": [
  {
   "cell_type": "code",
   "execution_count": 1,
   "id": "b24ae0af-90b0-4420-9b98-104b52fdc292",
   "metadata": {},
   "outputs": [],
   "source": [
    "import os\n",
    "import pathlib\n",
    "\n",
    "from sklearn.metrics.pairwise import cosine_similarity\n",
    "import scipy\n",
    "from psutil import virtual_memory\n",
    "import numpy as np\n",
    "\n",
    "import pandas as pd\n",
    "\n",
    "\n",
    "def check_ram():\n",
    "    ram_gb = virtual_memory().total / 1e9\n",
    "    print('Your runtime has {:.1f} gigabytes of available RAM\\n'.format(ram_gb))\n",
    "\n",
    "    if ram_gb < 20:\n",
    "        print('Not using a high-RAM runtime')\n",
    "    else:\n",
    "        print('You are using a high-RAM runtime!')\n"
   ]
  },
  {
   "cell_type": "code",
   "execution_count": 2,
   "id": "f87c0383-ec16-4004-be7b-26f208fa4082",
   "metadata": {},
   "outputs": [],
   "source": [
    "md2 = pd.read_csv('md2.csv',\n",
    "                                    header=0,\n",
    "                                    index_col=0)"
   ]
  },
  {
   "cell_type": "code",
   "execution_count": 3,
   "id": "83a8a983-941c-4fc1-a774-1ea22cca518f",
   "metadata": {},
   "outputs": [
    {
     "data": {
      "text/html": [
       "<div>\n",
       "<style scoped>\n",
       "    .dataframe tbody tr th:only-of-type {\n",
       "        vertical-align: middle;\n",
       "    }\n",
       "\n",
       "    .dataframe tbody tr th {\n",
       "        vertical-align: top;\n",
       "    }\n",
       "\n",
       "    .dataframe thead th {\n",
       "        text-align: right;\n",
       "    }\n",
       "</style>\n",
       "<table border=\"1\" class=\"dataframe\">\n",
       "  <thead>\n",
       "    <tr style=\"text-align: right;\">\n",
       "      <th></th>\n",
       "      <th>movieId</th>\n",
       "      <th>title</th>\n",
       "      <th>genres</th>\n",
       "      <th>year</th>\n",
       "      <th>rating</th>\n",
       "      <th>tag</th>\n",
       "      <th>combination</th>\n",
       "    </tr>\n",
       "  </thead>\n",
       "  <tbody>\n",
       "    <tr>\n",
       "      <th>0</th>\n",
       "      <td>1</td>\n",
       "      <td>Toy Story (1995)</td>\n",
       "      <td>['Adventure', 'Animation', 'Children', 'Comedy...</td>\n",
       "      <td>1995</td>\n",
       "      <td>3.893708</td>\n",
       "      <td>['neighborhood', 'Disney', 'unlikely friendshi...</td>\n",
       "      <td>['neighborhood', 'Disney', 'unlikely friendshi...</td>\n",
       "    </tr>\n",
       "    <tr>\n",
       "      <th>1</th>\n",
       "      <td>2</td>\n",
       "      <td>Jumanji (1995)</td>\n",
       "      <td>['Adventure', 'Children', 'Fantasy']</td>\n",
       "      <td>1995</td>\n",
       "      <td>3.251527</td>\n",
       "      <td>['fantasy', 'kid flick', 'childish', 'see also...</td>\n",
       "      <td>['fantasy', 'kid flick', 'childish', 'see also...</td>\n",
       "    </tr>\n",
       "    <tr>\n",
       "      <th>2</th>\n",
       "      <td>3</td>\n",
       "      <td>Grumpier Old Men (1995)</td>\n",
       "      <td>['Comedy', 'Romance']</td>\n",
       "      <td>1995</td>\n",
       "      <td>3.142028</td>\n",
       "      <td>['moldy', 'comedinha de velhinhos engraÃƒÂ§ada...</td>\n",
       "      <td>['moldy', 'comedinha de velhinhos engraÃƒÂ§ada...</td>\n",
       "    </tr>\n",
       "    <tr>\n",
       "      <th>3</th>\n",
       "      <td>4</td>\n",
       "      <td>Waiting to Exhale (1995)</td>\n",
       "      <td>['Comedy', 'Drama', 'Romance']</td>\n",
       "      <td>1995</td>\n",
       "      <td>2.853547</td>\n",
       "      <td>['chick flick', 'divorce', 'based on novel or ...</td>\n",
       "      <td>['chick flick', 'divorce', 'based on novel or ...</td>\n",
       "    </tr>\n",
       "    <tr>\n",
       "      <th>4</th>\n",
       "      <td>5</td>\n",
       "      <td>Father of the Bride Part II (1995)</td>\n",
       "      <td>['Comedy']</td>\n",
       "      <td>1995</td>\n",
       "      <td>3.058434</td>\n",
       "      <td>['contraception', 'family', 'steve martin', 's...</td>\n",
       "      <td>['contraception', 'family', 'steve martin', 's...</td>\n",
       "    </tr>\n",
       "  </tbody>\n",
       "</table>\n",
       "</div>"
      ],
      "text/plain": [
       "   movieId                               title  \\\n",
       "0        1                    Toy Story (1995)   \n",
       "1        2                      Jumanji (1995)   \n",
       "2        3             Grumpier Old Men (1995)   \n",
       "3        4            Waiting to Exhale (1995)   \n",
       "4        5  Father of the Bride Part II (1995)   \n",
       "\n",
       "                                              genres  year    rating  \\\n",
       "0  ['Adventure', 'Animation', 'Children', 'Comedy...  1995  3.893708   \n",
       "1               ['Adventure', 'Children', 'Fantasy']  1995  3.251527   \n",
       "2                              ['Comedy', 'Romance']  1995  3.142028   \n",
       "3                     ['Comedy', 'Drama', 'Romance']  1995  2.853547   \n",
       "4                                         ['Comedy']  1995  3.058434   \n",
       "\n",
       "                                                 tag  \\\n",
       "0  ['neighborhood', 'Disney', 'unlikely friendshi...   \n",
       "1  ['fantasy', 'kid flick', 'childish', 'see also...   \n",
       "2  ['moldy', 'comedinha de velhinhos engraÃƒÂ§ada...   \n",
       "3  ['chick flick', 'divorce', 'based on novel or ...   \n",
       "4  ['contraception', 'family', 'steve martin', 's...   \n",
       "\n",
       "                                         combination  \n",
       "0  ['neighborhood', 'Disney', 'unlikely friendshi...  \n",
       "1  ['fantasy', 'kid flick', 'childish', 'see also...  \n",
       "2  ['moldy', 'comedinha de velhinhos engraÃƒÂ§ada...  \n",
       "3  ['chick flick', 'divorce', 'based on novel or ...  \n",
       "4  ['contraception', 'family', 'steve martin', 's...  "
      ]
     },
     "execution_count": 3,
     "metadata": {},
     "output_type": "execute_result"
    }
   ],
   "source": [
    "md2.head()"
   ]
  },
  {
   "cell_type": "code",
   "execution_count": 4,
   "id": "27e5bbfe-23c7-4a95-bbc8-10ada8fd3530",
   "metadata": {},
   "outputs": [],
   "source": [
    "loaded = np.load('cosine_sim_25m.npz')\n",
    "cosine_sim = loaded['arr_0']"
   ]
  },
  {
   "cell_type": "code",
   "execution_count": 5,
   "id": "826b7456-e2ff-4c33-b1bd-ecd57ca81714",
   "metadata": {},
   "outputs": [],
   "source": [
    "def get_recommendations(title):\n",
    "        idx = md2.index[md2['title'].str.startswith(title)]\n",
    "        if idx.empty: \n",
    "            idx = md2.index[md2['title'].str.startswith(title.lower())]\n",
    "        if idx.empty:\n",
    "            print(f'idx = {idx}, unable to find any movie with that title.')\n",
    "            return None\n",
    "        list_of_recommendations = []\n",
    "        if idx.shape[0] > 5:\n",
    "            count = 1\n",
    "        else:\n",
    "            count = 5\n",
    "        for curr_count, item in enumerate(idx):\n",
    "            list_of_recommendations += find_cosine_similarity(item,count)\n",
    "            if curr_count == 100:\n",
    "                break\n",
    "        list_of_recommendations = list(set(list_of_recommendations))\n",
    "        return md2.iloc[list_of_recommendations]['title']"
   ]
  },
  {
   "cell_type": "code",
   "execution_count": 6,
   "id": "3b2836c7-306a-4cf2-b8cd-34bf8260bd95",
   "metadata": {},
   "outputs": [],
   "source": [
    "def get_recommendations_from_combinations(title):\n",
    "    df = md2[md2['combination'].apply(lambda tag: check(tag, title))]\n",
    "    # print(f'df = {df}')\n",
    "    if df.empty:\n",
    "        print(f'df = {df}, unable to find any movie with that title.')\n",
    "        return None\n",
    "    return df.sort_values('rating', ascending=False).head(250)['title']"
   ]
  },
  {
   "cell_type": "code",
   "execution_count": 289,
   "id": "a5c43788-bef6-4aed-8d52-bc38367ad39d",
   "metadata": {},
   "outputs": [],
   "source": [
    "def get_recommendations_from_combinations_sorted_by_cosim(title):\n",
    "    selection = title.split()\n",
    "    # df = md2[md2['combination'].str.contains(title, na=False)]\n",
    "    df = md2[md2['combination'].apply(lambda tag: check(tag, selection))]\n",
    "    # print(f'df = {df}')\n",
    "    if df.empty:\n",
    "        print(f'df = {df}, unable to find any movie with that title.')\n",
    "        return None\n",
    "    return get_cosine_similar_titles(md2)"
   ]
  },
  {
   "cell_type": "code",
   "execution_count": 7,
   "id": "43f0a6e3-378f-4aed-9a15-71d2e76a8103",
   "metadata": {},
   "outputs": [],
   "source": [
    "import re\n",
    "def check(tagList, input_str):\n",
    "    if type(tagList) != str or type(input_str) != str:\n",
    "        return False\n",
    "    if 'nan,' in tagList:\n",
    "        tagList = re.sub('nan,', '\\'\\',', tagList)\n",
    "    tagList = eval(tagList)\n",
    "    found_match = False\n",
    "    if input_str in tagList or input_str.lower() in tagList:\n",
    "            found_match = True\n",
    "    if not found_match:\n",
    "        input_list = input_str.split()\n",
    "        split_tag_match = True\n",
    "        for tag in input_list:\n",
    "            if tag not in tagList and tag.lower() not in tagList:\n",
    "                split_tag_match = False\n",
    "                break\n",
    "        if split_tag_match:\n",
    "            found_match = True\n",
    "    return found_match"
   ]
  },
  {
   "cell_type": "code",
   "execution_count": 305,
   "id": "4ea65715-4776-4e3e-b9fe-6bc8151b2149",
   "metadata": {},
   "outputs": [],
   "source": [
    "from collections import defaultdict\n",
    "\n",
    "def get_cosine_similar_titles(df):\n",
    "    dict_of_title_to_occurance = defaultdict(int)\n",
    "    for count, item in enumerate(df.index):\n",
    "            list_of_recommendations = find_cosine_similarity(item,2)\n",
    "            for it in list_of_recommendations:\n",
    "                # print(f'it = {it}, dict_of_title_to_occurance={dict_of_title_to_occurance}')\n",
    "                dict_of_title_to_occurance[df.iloc[it]['title']]+=1\n",
    "            if count == 100:\n",
    "                break\n",
    "    sorted_list = sorted(dict_of_title_to_occurance.items(), key=lambda x: x[1], reverse=True)\n",
    "    sorted_dict = dict(sorted_list)\n",
    "    print(f'sorted_list = {sorted_list[:50]}')\n",
    "    return sorted_dict.keys()"
   ]
  },
  {
   "cell_type": "code",
   "execution_count": 8,
   "id": "d7d6ac7a-fdda-49fd-adc3-bb42dfa5549e",
   "metadata": {},
   "outputs": [],
   "source": [
    "def find_cosine_similarity(item, count=3):\n",
    "    sim_scores = list(enumerate(cosine_sim[item]))\n",
    "    sim_scores = sorted(sim_scores, key=lambda x: x[1], reverse=True)\n",
    "    movie_indices = [i[0] for i in sim_scores]\n",
    "    return movie_indices[:count]"
   ]
  },
  {
   "cell_type": "code",
   "execution_count": 9,
   "id": "b8e11b9e-de2a-4d95-865a-7d83b520365b",
   "metadata": {},
   "outputs": [
    {
     "name": "stdout",
     "output_type": "stream",
     "text": [
      "0                                 Toy Story (1995)\n",
      "22439    Toy Story Toons: Hawaiian Vacation (2011)\n",
      "22440            Toy Story Toons: Small Fry (2011)\n",
      "3021                            Toy Story 2 (1999)\n",
      "20431                   Toy Story of Terror (2013)\n",
      "56144                           Toy Story 4 (2019)\n",
      "14803                           Toy Story 3 (2010)\n",
      "23738      Toy Story Toons: Partysaurus Rex (2012)\n",
      "23740            Toy Story That Time Forgot (2014)\n",
      "Name: title, dtype: object\n"
     ]
    }
   ],
   "source": [
    "print(get_recommendations('Toy Story').head(100))"
   ]
  },
  {
   "cell_type": "code",
   "execution_count": 11,
   "id": "9990143f-b63e-4fdd-a26d-dd4013324d4f",
   "metadata": {},
   "outputs": [
    {
     "name": "stdout",
     "output_type": "stream",
     "text": [
      "0                                 Toy Story (1995)\n",
      "14803                           Toy Story 3 (2010)\n",
      "17290                                  Hugo (2011)\n",
      "23738      Toy Story Toons: Partysaurus Rex (2012)\n",
      "23740            Toy Story That Time Forgot (2014)\n",
      "22440            Toy Story Toons: Small Fry (2011)\n",
      "22439    Toy Story Toons: Hawaiian Vacation (2011)\n",
      "Name: title, dtype: object\n"
     ]
    }
   ],
   "source": [
    "print(get_recommendations_from_combinations('Toy Story').head(200))"
   ]
  },
  {
   "cell_type": "markdown",
   "id": "f1a1cd4b-d4a8-41ad-a2a2-101ac1e74650",
   "metadata": {},
   "source": []
  },
  {
   "cell_type": "code",
   "execution_count": null,
   "id": "e5ee9135-a7ba-4c44-a616-bfb1806d4023",
   "metadata": {},
   "outputs": [],
   "source": []
  },
  {
   "cell_type": "code",
   "execution_count": null,
   "id": "2ea2f824-9aca-4c47-a558-4e67da65ef35",
   "metadata": {},
   "outputs": [],
   "source": []
  },
  {
   "cell_type": "code",
   "execution_count": null,
   "id": "6686131c-582a-4097-9e3c-6f166fd17b68",
   "metadata": {},
   "outputs": [],
   "source": []
  },
  {
   "cell_type": "code",
   "execution_count": null,
   "id": "237f19d3-1ae9-4dce-adf1-6f3a68567b50",
   "metadata": {},
   "outputs": [],
   "source": []
  },
  {
   "cell_type": "code",
   "execution_count": null,
   "id": "5c7402e8-30a6-485f-aaaa-a8689d29172a",
   "metadata": {},
   "outputs": [],
   "source": []
  }
 ],
 "metadata": {
  "kernelspec": {
   "display_name": "Python 3 (ipykernel)",
   "language": "python",
   "name": "python3"
  },
  "language_info": {
   "codemirror_mode": {
    "name": "ipython",
    "version": 3
   },
   "file_extension": ".py",
   "mimetype": "text/x-python",
   "name": "python",
   "nbconvert_exporter": "python",
   "pygments_lexer": "ipython3",
   "version": "3.9.7"
  }
 },
 "nbformat": 4,
 "nbformat_minor": 5
}
